{
 "cells": [
  {
   "cell_type": "markdown",
   "id": "99f85d44-fa75-4269-b711-b9b9e6c782b6",
   "metadata": {},
   "source": [
    "<font size=+3 color=\"#3D3D3D\"><center><b>AI interview assignment - Sentiment analysis (NLP) </b></center></font>\n",
    "\n",
    "<center> <img src=\"https://images.unsplash.com/photo-1633613286991-611fe299c4be?ixlib=rb-1.2.1&ixid=MnwxMjA3fDB8MHxwaG90by1wYWdlfHx8fGVufDB8fHx8&auto=format&fit=crop&w=1740&q=80\" width = 800> </center>\n",
    "<center><em>Photo by Towfiqu barbhuiya (Unsplash)</em></center>"
   ]
  },
  {
   "cell_type": "markdown",
   "id": "f5d80c60",
   "metadata": {
    "tags": []
   },
   "source": [
    "# 1. Problm Understanding\n",
    " \n",
    "You are expected to identify a classification problem of your choice. You have to detail the Business Understanding part of your problem under this heading which basically addresses the following questions.\n",
    " \n",
    "   1. What is the problem that you are trying to solve?\n",
    "   2. What data do you need to answer the above problem?\n",
    "   3. What are the different sources of data?    \n",
    "   4. What kind of analytics task are you performing?\n",
    "\n"
   ]
  },
  {
   "cell_type": "raw",
   "id": "3298e121",
   "metadata": {},
   "source": [
    "--------------Type the answers below this line-------------- "
   ]
  },
  {
   "cell_type": "markdown",
   "id": "778bf47c-920d-4537-a5d4-800dc3087480",
   "metadata": {},
   "source": [
    "In this notebook we will try to make a model that analyise customer comments and classify them as \"positive\" or \"negative\". \n",
    "1. Business often receive customers feedback on social network platforms like instagram, facebook etc without any ratings. It is hard for business to keep track of all the key responses and improve themselves. Hence it will be important for businesses to grade their customer responses.\n",
    "\n",
    "2. To solve this problem we need data that contain customer responses along with their ratings.\n",
    "\n",
    "3. In this notebook we will collect google reviews of various restaurants along with customers ratings to prepare our dataset\n",
    "\n",
    "4. In our prepared dataset following thing we should take care\n",
    "    - there should be proper balance between positive and negative class.\n",
    "    - our dataset should not contain any null values and duplicate values.\n",
    "    - customer comments should be cleaned if there is any special character or an emoji.\n",
    "    - comments are to be converted in small case for consistency.\n",
    "    - stemming applied on comments to improve model performance."
   ]
  },
  {
   "cell_type": "markdown",
   "id": "3cc8e0cb",
   "metadata": {},
   "source": [
    "# 2. Data Acquisition\n",
    " \n",
    "For the problem identified by you, students have to find the data source themselves which should be a website which has the required data in it. You have to write Python crawler code to scrape data from the respective website rather than downloading ready-made dataset as such from sources like Kaggle etc. \n",
    "\n",
    "(Data downloaded from website like Kaggle will be awarded negative marks.)\n",
    "\n",
    "## 2.1 Code for scraping data from website\n",
    "\n"
   ]
  },
  {
   "cell_type": "code",
   "execution_count": 2,
   "id": "4b51d895",
   "metadata": {},
   "outputs": [],
   "source": [
    "##---------Type the code below this line------------------##"
   ]
  },
  {
   "cell_type": "markdown",
   "id": "ee140373-b7ae-4b32-979a-20164ac48987",
   "metadata": {},
   "source": [
    "Here for scrapping google reviews of various restaurants we will be using selenium along with beautifulsoup."
   ]
  },
  {
   "cell_type": "code",
   "execution_count": 3,
   "id": "b535748b-c444-4bce-9b1e-dc579d897096",
   "metadata": {},
   "outputs": [
    {
     "name": "stdout",
     "output_type": "stream",
     "text": [
      "✔️ Libraries imported successfully!\n"
     ]
    }
   ],
   "source": [
    "# Importing Libraries\n",
    "from selenium import webdriver\n",
    "from webdriver_manager.chrome import ChromeDriverManager\n",
    "from selenium.webdriver.support.ui import WebDriverWait\n",
    "from selenium.webdriver.common.action_chains import ActionChains\n",
    "from selenium.webdriver.support import expected_conditions as EC\n",
    "from selenium.common.exceptions import ElementNotVisibleException\n",
    "from selenium.webdriver.common.by import By\n",
    "from selenium.common.exceptions import TimeoutException\n",
    "from bs4 import BeautifulSoup\n",
    "\n",
    "print('✔️ Libraries imported successfully!')"
   ]
  },
  {
   "cell_type": "code",
   "execution_count": 4,
   "id": "5168c8d0-6d6e-40ca-82e0-b7bf87c2a3fd",
   "metadata": {},
   "outputs": [
    {
     "name": "stdout",
     "output_type": "stream",
     "text": [
      "\n"
     ]
    },
    {
     "name": "stderr",
     "output_type": "stream",
     "text": [
      "[WDM] - ====== WebDriver manager ======\n",
      "[WDM] - Current google-chrome version is 102.0.5005\n",
      "[WDM] - Get LATEST chromedriver version for 102.0.5005 google-chrome\n",
      "[WDM] - Driver [C:\\Users\\gs\\.wdm\\drivers\\chromedriver\\win32\\102.0.5005.61\\chromedriver.exe] found in cache\n",
      "C:\\Users\\gs\\AppData\\Local\\Temp\\ipykernel_13460\\1503906442.py:1: DeprecationWarning: executable_path has been deprecated, please pass in a Service object\n",
      "  driver = webdriver.Chrome(ChromeDriverManager().install())\n"
     ]
    }
   ],
   "source": [
    "driver = webdriver.Chrome(ChromeDriverManager().install())"
   ]
  },
  {
   "cell_type": "code",
   "execution_count": 4,
   "id": "22bae212-ec15-4a67-8ab9-faade0610014",
   "metadata": {},
   "outputs": [],
   "source": [
    "#list for storing our scrapped comments and ratings \n",
    "reviews = []\n",
    "#sample pin code list, as scrapping for all pin codes at once takes much time\n",
    "#i have scrapped for other pin codes also and stored there result in excel file, all files will be attached with this notebook\n",
    "#to enhance future capability we can store scrapped result in a database.\n",
    "pincodes = [\"110001\",\"110002\",\"110003\"]\n",
    "# Scrape results for every pincode in list pincodes \n",
    "for pincode in pincodes:\n",
    "    \n",
    "    # Scrapping top 10 results for restaurants search on a pincode \n",
    "    for i in range(10):\n",
    "\n",
    "        driver.implicitly_wait(30)\n",
    "\n",
    "        query = \"Restaurants  near \" + pincode\n",
    "\n",
    "        driver.get(\"https://www.google.com/search?q=\" + query)\n",
    "        wait = WebDriverWait(driver, 10)\n",
    "        # search query in browser\n",
    "        ActionChains(driver).move_to_element(wait.until(EC.element_to_be_clickable(\n",
    "            (By.XPATH, \"//a[contains(@href, '/search?tbs')]\")))).perform()\n",
    "        wait.until(EC.element_to_be_clickable(\n",
    "            (By.XPATH, \"//a[contains(@href, '/search?tbs')]\"))).click()\n",
    "        # iterate over restaurants list and select the i number restaurant from the search result\n",
    "        for count, element in enumerate(driver.find_elements(By.XPATH, \"//div[@aria-level='3']\")):\n",
    "            if count == i:\n",
    "                menu_bt = wait.until(EC.element_to_be_clickable(element))\n",
    "                menu_bt.click()\n",
    "\n",
    "\n",
    "        try:\n",
    "            \n",
    "            # click on the \"reviews\" object\n",
    "            review_bt = wait.until(EC.element_to_be_clickable(\n",
    "                                   (By.XPATH, '//html/body/div[6]/div/div[9]/div[2]/div/div[2]/async-local-kp/div/div/div[1]/div/div/block-component/div/div[1]/div/div/div/div[1]/div/div/div[1]/div/div[2]/div[1]/div/div/span[3]/span/a/span'))\n",
    "                               )  \n",
    "            review_bt.click()\n",
    "            \n",
    "            #click on the \"newest\" button\n",
    "            newest_bt = wait.until(EC.element_to_be_clickable(\n",
    "                                   (By.XPATH, '//html/body/span/g-lightbox/div/div[2]/div[3]/span/div/div/div/div[2]/div[3]/g-scrolling-carousel/div[1]/div/div[2]'))\n",
    "                               )\n",
    "            newest_bt.click()\n",
    "            \n",
    "            # feed response of above action to beautifulsoup\n",
    "            response = BeautifulSoup(driver.page_source, 'html.parser')\n",
    "            \n",
    "            # select class \"review-dialog-list\" to select all the reviews\n",
    "            doc = response.find(class_='review-dialog-list')\n",
    "            # find ratings\n",
    "            rating = doc.find_all(class_='Fam1ne EBe2gf')\n",
    "            # find review\n",
    "            review_text = doc.find_all(class_='Jtu6Td')\n",
    "            \n",
    "            # loop over every rating and collect its corresponding review\n",
    "            for i in range(len(rating)):\n",
    "                try:\n",
    "                    # exrtract text review message\n",
    "                    review_message = review_text[i].find(class_ = 'review-snippet').text\n",
    "                except Exception:\n",
    "                    review_message = None\n",
    "                # extract customer rating number\n",
    "                rating_value = rating[i]['aria-label'][6]\n",
    "                # create record dictionary\n",
    "                user_rec = {\"review\": review_message, \"rating\": rating_value}\n",
    "                # append dictionary to final list\n",
    "                reviews.append(user_rec)\n",
    "        except Exception:\n",
    "            pass\n"
   ]
  },
  {
   "cell_type": "code",
   "execution_count": 5,
   "id": "a54c4ecb-1b7d-41a2-a523-d09ad0f6fba0",
   "metadata": {},
   "outputs": [
    {
     "name": "stdout",
     "output_type": "stream",
     "text": [
      "Number of records scrapped :  220\n"
     ]
    }
   ],
   "source": [
    "print(\"Number of records scrapped : \",len(reviews))"
   ]
  },
  {
   "cell_type": "markdown",
   "id": "49530d0c",
   "metadata": {},
   "source": [
    "## 2.2 Code for converting the above scraped data into a dataframe"
   ]
  },
  {
   "cell_type": "code",
   "execution_count": null,
   "id": "c1f4c171",
   "metadata": {},
   "outputs": [],
   "source": [
    "##---------Type the code below this line------------------##"
   ]
  },
  {
   "cell_type": "code",
   "execution_count": 5,
   "id": "9936e1ce-731f-4dd1-b8aa-1d900d619b7e",
   "metadata": {},
   "outputs": [
    {
     "name": "stdout",
     "output_type": "stream",
     "text": [
      "✔️ Libraries imported successfully!\n"
     ]
    }
   ],
   "source": [
    "import pandas as pd\n",
    "import numpy as np\n",
    "print('✔️ Libraries imported successfully!')"
   ]
  },
  {
   "cell_type": "code",
   "execution_count": null,
   "id": "11911563-dac8-44a6-807b-066efb15f9b2",
   "metadata": {},
   "outputs": [],
   "source": [
    "# converting our reviews list to dataframe\n",
    "df = pd.DataFrame(reviews,\n",
    "               columns =['review', 'rating'])"
   ]
  },
  {
   "cell_type": "code",
   "execution_count": 8,
   "id": "dbab796f-154b-4cee-8d7c-63f6af8c374d",
   "metadata": {},
   "outputs": [
    {
     "data": {
      "text/html": [
       "<div>\n",
       "<style scoped>\n",
       "    .dataframe tbody tr th:only-of-type {\n",
       "        vertical-align: middle;\n",
       "    }\n",
       "\n",
       "    .dataframe tbody tr th {\n",
       "        vertical-align: top;\n",
       "    }\n",
       "\n",
       "    .dataframe thead th {\n",
       "        text-align: right;\n",
       "    }\n",
       "</style>\n",
       "<table border=\"1\" class=\"dataframe\">\n",
       "  <thead>\n",
       "    <tr style=\"text-align: right;\">\n",
       "      <th></th>\n",
       "      <th>review</th>\n",
       "      <th>rating</th>\n",
       "    </tr>\n",
       "  </thead>\n",
       "  <tbody>\n",
       "    <tr>\n",
       "      <th>0</th>\n",
       "      <td>One of the nicest place to have buffet experie...</td>\n",
       "      <td>5</td>\n",
       "    </tr>\n",
       "    <tr>\n",
       "      <th>1</th>\n",
       "      <td>None</td>\n",
       "      <td>4</td>\n",
       "    </tr>\n",
       "    <tr>\n",
       "      <th>2</th>\n",
       "      <td>By far this is one of the best buffet places i...</td>\n",
       "      <td>4</td>\n",
       "    </tr>\n",
       "    <tr>\n",
       "      <th>3</th>\n",
       "      <td>Amazing place for unlimited buffet. The servic...</td>\n",
       "      <td>5</td>\n",
       "    </tr>\n",
       "    <tr>\n",
       "      <th>4</th>\n",
       "      <td>Last time visit there on my birthday and they ...</td>\n",
       "      <td>5</td>\n",
       "    </tr>\n",
       "  </tbody>\n",
       "</table>\n",
       "</div>"
      ],
      "text/plain": [
       "                                              review rating\n",
       "0  One of the nicest place to have buffet experie...      5\n",
       "1                                               None      4\n",
       "2  By far this is one of the best buffet places i...      4\n",
       "3  Amazing place for unlimited buffet. The servic...      5\n",
       "4  Last time visit there on my birthday and they ...      5"
      ]
     },
     "execution_count": 8,
     "metadata": {},
     "output_type": "execute_result"
    }
   ],
   "source": [
    "df.head()"
   ]
  },
  {
   "cell_type": "code",
   "execution_count": 9,
   "id": "94b269ef-8b27-4f62-add3-01d724e27d4a",
   "metadata": {},
   "outputs": [],
   "source": [
    "# export dataset as an excel file\n",
    "df.to_excel(\"google_review_16.xlsx\", index=False)"
   ]
  },
  {
   "cell_type": "markdown",
   "id": "7b1fea4d",
   "metadata": {},
   "source": [
    "## 2.3 Confirm the data has been correctly by displaying the first 5 and last 5 records."
   ]
  },
  {
   "cell_type": "code",
   "execution_count": null,
   "id": "624e6c58",
   "metadata": {},
   "outputs": [],
   "source": [
    "##---------Type the code below this line------------------##"
   ]
  },
  {
   "cell_type": "code",
   "execution_count": 55,
   "id": "bb90367f-afe1-4bd1-8134-88003e9d4fd5",
   "metadata": {},
   "outputs": [],
   "source": [
    "# integrate all previously scrapped data for different pin codes, as it takes time to extracting all data in one single batch\n",
    "# there are 16 files we concat all of them with this loop, all excel file will be attached with this notebook\n",
    "file_name = 'google_review_{}.xlsx'\n",
    "df_list = []\n",
    "for i in range(0, 17):\n",
    "    df_list.append(pd.read_excel(file_name.format(i)))\n",
    "\n",
    "df = pd.concat(df_list)\n",
    "#reset_index of new df\n",
    "df.reset_index(drop=True,inplace = True)"
   ]
  },
  {
   "cell_type": "code",
   "execution_count": 56,
   "id": "6d2a5e6d-2b22-4ee6-9d00-ab93ff5f0665",
   "metadata": {},
   "outputs": [
    {
     "data": {
      "text/html": [
       "<div>\n",
       "<style scoped>\n",
       "    .dataframe tbody tr th:only-of-type {\n",
       "        vertical-align: middle;\n",
       "    }\n",
       "\n",
       "    .dataframe tbody tr th {\n",
       "        vertical-align: top;\n",
       "    }\n",
       "\n",
       "    .dataframe thead th {\n",
       "        text-align: right;\n",
       "    }\n",
       "</style>\n",
       "<table border=\"1\" class=\"dataframe\">\n",
       "  <thead>\n",
       "    <tr style=\"text-align: right;\">\n",
       "      <th></th>\n",
       "      <th>review</th>\n",
       "      <th>rating</th>\n",
       "    </tr>\n",
       "  </thead>\n",
       "  <tbody>\n",
       "    <tr>\n",
       "      <th>0</th>\n",
       "      <td>NaN</td>\n",
       "      <td>5</td>\n",
       "    </tr>\n",
       "    <tr>\n",
       "      <th>1</th>\n",
       "      <td>NaN</td>\n",
       "      <td>5</td>\n",
       "    </tr>\n",
       "    <tr>\n",
       "      <th>2</th>\n",
       "      <td>NaN</td>\n",
       "      <td>5</td>\n",
       "    </tr>\n",
       "    <tr>\n",
       "      <th>3</th>\n",
       "      <td>NaN</td>\n",
       "      <td>5</td>\n",
       "    </tr>\n",
       "    <tr>\n",
       "      <th>4</th>\n",
       "      <td>NaN</td>\n",
       "      <td>5</td>\n",
       "    </tr>\n",
       "  </tbody>\n",
       "</table>\n",
       "</div>"
      ],
      "text/plain": [
       "  review  rating\n",
       "0    NaN       5\n",
       "1    NaN       5\n",
       "2    NaN       5\n",
       "3    NaN       5\n",
       "4    NaN       5"
      ]
     },
     "execution_count": 56,
     "metadata": {},
     "output_type": "execute_result"
    }
   ],
   "source": [
    "# display first 5 rows of dataframe\n",
    "df.head()"
   ]
  },
  {
   "cell_type": "code",
   "execution_count": 10,
   "id": "8215a5b1-26a4-4ba5-93e0-5e6ca4b34f8d",
   "metadata": {},
   "outputs": [
    {
     "data": {
      "text/html": [
       "<div>\n",
       "<style scoped>\n",
       "    .dataframe tbody tr th:only-of-type {\n",
       "        vertical-align: middle;\n",
       "    }\n",
       "\n",
       "    .dataframe tbody tr th {\n",
       "        vertical-align: top;\n",
       "    }\n",
       "\n",
       "    .dataframe thead th {\n",
       "        text-align: right;\n",
       "    }\n",
       "</style>\n",
       "<table border=\"1\" class=\"dataframe\">\n",
       "  <thead>\n",
       "    <tr style=\"text-align: right;\">\n",
       "      <th></th>\n",
       "      <th>review</th>\n",
       "      <th>rating</th>\n",
       "    </tr>\n",
       "  </thead>\n",
       "  <tbody>\n",
       "    <tr>\n",
       "      <th>1125</th>\n",
       "      <td>Food presentation was good, taste was average....</td>\n",
       "      <td>3</td>\n",
       "    </tr>\n",
       "    <tr>\n",
       "      <th>1126</th>\n",
       "      <td>NaN</td>\n",
       "      <td>5</td>\n",
       "    </tr>\n",
       "    <tr>\n",
       "      <th>1127</th>\n",
       "      <td>Nice place to sit down with friends. Luckily w...</td>\n",
       "      <td>4</td>\n",
       "    </tr>\n",
       "    <tr>\n",
       "      <th>1128</th>\n",
       "      <td>NaN</td>\n",
       "      <td>5</td>\n",
       "    </tr>\n",
       "    <tr>\n",
       "      <th>1129</th>\n",
       "      <td>From adding spice to boring day to cheering up...</td>\n",
       "      <td>5</td>\n",
       "    </tr>\n",
       "  </tbody>\n",
       "</table>\n",
       "</div>"
      ],
      "text/plain": [
       "                                                 review  rating\n",
       "1125  Food presentation was good, taste was average....       3\n",
       "1126                                                NaN       5\n",
       "1127  Nice place to sit down with friends. Luckily w...       4\n",
       "1128                                                NaN       5\n",
       "1129  From adding spice to boring day to cheering up...       5"
      ]
     },
     "execution_count": 10,
     "metadata": {},
     "output_type": "execute_result"
    }
   ],
   "source": [
    "# display last 5 rows of dataframe\n",
    "df.tail()"
   ]
  },
  {
   "cell_type": "markdown",
   "id": "bb84fc56",
   "metadata": {},
   "source": [
    "## 2.4 Display the column headings, statistical information, description and statistical summary of the data."
   ]
  },
  {
   "cell_type": "code",
   "execution_count": 11,
   "id": "086ad28e",
   "metadata": {},
   "outputs": [],
   "source": [
    "##---------Type the code below this line------------------##"
   ]
  },
  {
   "cell_type": "code",
   "execution_count": 12,
   "id": "103dd475-6d13-4558-b15d-a8d78d71371f",
   "metadata": {},
   "outputs": [
    {
     "data": {
      "text/html": [
       "<div>\n",
       "<style scoped>\n",
       "    .dataframe tbody tr th:only-of-type {\n",
       "        vertical-align: middle;\n",
       "    }\n",
       "\n",
       "    .dataframe tbody tr th {\n",
       "        vertical-align: top;\n",
       "    }\n",
       "\n",
       "    .dataframe thead th {\n",
       "        text-align: right;\n",
       "    }\n",
       "</style>\n",
       "<table border=\"1\" class=\"dataframe\">\n",
       "  <thead>\n",
       "    <tr style=\"text-align: right;\">\n",
       "      <th></th>\n",
       "      <th>rating</th>\n",
       "    </tr>\n",
       "  </thead>\n",
       "  <tbody>\n",
       "    <tr>\n",
       "      <th>count</th>\n",
       "      <td>1130.000000</td>\n",
       "    </tr>\n",
       "    <tr>\n",
       "      <th>mean</th>\n",
       "      <td>4.237168</td>\n",
       "    </tr>\n",
       "    <tr>\n",
       "      <th>std</th>\n",
       "      <td>1.120878</td>\n",
       "    </tr>\n",
       "    <tr>\n",
       "      <th>min</th>\n",
       "      <td>1.000000</td>\n",
       "    </tr>\n",
       "    <tr>\n",
       "      <th>25%</th>\n",
       "      <td>4.000000</td>\n",
       "    </tr>\n",
       "    <tr>\n",
       "      <th>50%</th>\n",
       "      <td>5.000000</td>\n",
       "    </tr>\n",
       "    <tr>\n",
       "      <th>75%</th>\n",
       "      <td>5.000000</td>\n",
       "    </tr>\n",
       "    <tr>\n",
       "      <th>max</th>\n",
       "      <td>5.000000</td>\n",
       "    </tr>\n",
       "  </tbody>\n",
       "</table>\n",
       "</div>"
      ],
      "text/plain": [
       "            rating\n",
       "count  1130.000000\n",
       "mean      4.237168\n",
       "std       1.120878\n",
       "min       1.000000\n",
       "25%       4.000000\n",
       "50%       5.000000\n",
       "75%       5.000000\n",
       "max       5.000000"
      ]
     },
     "execution_count": 12,
     "metadata": {},
     "output_type": "execute_result"
    }
   ],
   "source": [
    "# to print statistical info\n",
    "df.describe()"
   ]
  },
  {
   "cell_type": "markdown",
   "id": "0271440e-517a-4fbc-85e8-68e3c5fdf69f",
   "metadata": {},
   "source": [
    "it only shows rating column as df.describe give statistic information of only numeric columns"
   ]
  },
  {
   "cell_type": "code",
   "execution_count": 13,
   "id": "1a02c48b-d4da-413e-80e0-dc28c4e79021",
   "metadata": {},
   "outputs": [
    {
     "name": "stdout",
     "output_type": "stream",
     "text": [
      "<class 'pandas.core.frame.DataFrame'>\n",
      "RangeIndex: 1130 entries, 0 to 1129\n",
      "Data columns (total 2 columns):\n",
      " #   Column  Non-Null Count  Dtype \n",
      "---  ------  --------------  ----- \n",
      " 0   review  341 non-null    object\n",
      " 1   rating  1130 non-null   int64 \n",
      "dtypes: int64(1), object(1)\n",
      "memory usage: 17.8+ KB\n"
     ]
    }
   ],
   "source": [
    "# to print info of df\n",
    "df.info()"
   ]
  },
  {
   "cell_type": "markdown",
   "id": "812edb18",
   "metadata": {},
   "source": [
    "## 2.5 Write your observations from the above. \n",
    "1. Size of the dataset\n",
    "2. What type of data attributes are there?\n",
    "3. Is there any null data that has to be cleaned?\n"
   ]
  },
  {
   "cell_type": "raw",
   "id": "60d80d2f",
   "metadata": {},
   "source": [
    "--------------Type the answers below this line--------------"
   ]
  },
  {
   "cell_type": "markdown",
   "id": "de14c911-a8e6-4aed-9bf0-cca5155f05cc",
   "metadata": {},
   "source": [
    "1. Dataset contains 1130 records\n",
    "2. There are 2 columns one is review column with Dtype object(\"string\") other is rating column with Dtype int64(\"numeric\")\n",
    "3. There are lot of null values in review column, these are those records where customer just gives ratings without giving any review."
   ]
  },
  {
   "cell_type": "markdown",
   "id": "102e0e36",
   "metadata": {},
   "source": [
    "# 3. Data Preparation"
   ]
  },
  {
   "cell_type": "markdown",
   "id": "2bcb953b",
   "metadata": {},
   "source": [
    "## 3.1 Display how many unique values are present in each attribute\n"
   ]
  },
  {
   "cell_type": "code",
   "execution_count": 14,
   "id": "5a5b960e",
   "metadata": {},
   "outputs": [],
   "source": [
    "##---------Type the code below this line------------------##"
   ]
  },
  {
   "cell_type": "code",
   "execution_count": 15,
   "id": "3ffa943d-47b8-4298-b21a-ac3bd3b1ae94",
   "metadata": {},
   "outputs": [
    {
     "name": "stdout",
     "output_type": "stream",
     "text": [
      "Number of unique value in 'review' column :  320\n",
      "Number of unique value in 'rating' column :  5\n"
     ]
    }
   ],
   "source": [
    "#number of unique values in each column\n",
    "print(\"Number of unique value in 'review' column : \",df['review'].nunique())\n",
    "print(\"Number of unique value in 'rating' column : \",df['rating'].nunique())"
   ]
  },
  {
   "cell_type": "markdown",
   "id": "06fdebf8",
   "metadata": {},
   "source": [
    "## 3.2 Check for the presence of duplicate data, identify the attributes with duplicate data, report the attributes. Mention the method adopted to remove duplicate data if present. Report the results again."
   ]
  },
  {
   "cell_type": "code",
   "execution_count": 16,
   "id": "c86d5b0b",
   "metadata": {},
   "outputs": [],
   "source": [
    "##---------Type the code below this line------------------##"
   ]
  },
  {
   "cell_type": "code",
   "execution_count": 17,
   "id": "e09f3f6c-6349-49fb-b310-dc3c04361ba8",
   "metadata": {},
   "outputs": [
    {
     "name": "stdout",
     "output_type": "stream",
     "text": [
      "Number of duplicate records :  805\n"
     ]
    }
   ],
   "source": [
    "# number of duplicate record\n",
    "print(\"Number of duplicate records : \", len(df[df.duplicated()]))"
   ]
  },
  {
   "cell_type": "code",
   "execution_count": 18,
   "id": "ffc36bd4-b8f1-4613-abbd-16cf871b686c",
   "metadata": {
    "tags": []
   },
   "outputs": [
    {
     "data": {
      "text/html": [
       "<div>\n",
       "<style scoped>\n",
       "    .dataframe tbody tr th:only-of-type {\n",
       "        vertical-align: middle;\n",
       "    }\n",
       "\n",
       "    .dataframe tbody tr th {\n",
       "        vertical-align: top;\n",
       "    }\n",
       "\n",
       "    .dataframe thead th {\n",
       "        text-align: right;\n",
       "    }\n",
       "</style>\n",
       "<table border=\"1\" class=\"dataframe\">\n",
       "  <thead>\n",
       "    <tr style=\"text-align: right;\">\n",
       "      <th></th>\n",
       "      <th>review</th>\n",
       "      <th>rating</th>\n",
       "    </tr>\n",
       "  </thead>\n",
       "  <tbody>\n",
       "    <tr>\n",
       "      <th>1</th>\n",
       "      <td>NaN</td>\n",
       "      <td>5</td>\n",
       "    </tr>\n",
       "    <tr>\n",
       "      <th>2</th>\n",
       "      <td>NaN</td>\n",
       "      <td>5</td>\n",
       "    </tr>\n",
       "    <tr>\n",
       "      <th>3</th>\n",
       "      <td>NaN</td>\n",
       "      <td>5</td>\n",
       "    </tr>\n",
       "    <tr>\n",
       "      <th>4</th>\n",
       "      <td>NaN</td>\n",
       "      <td>5</td>\n",
       "    </tr>\n",
       "    <tr>\n",
       "      <th>5</th>\n",
       "      <td>NaN</td>\n",
       "      <td>5</td>\n",
       "    </tr>\n",
       "    <tr>\n",
       "      <th>...</th>\n",
       "      <td>...</td>\n",
       "      <td>...</td>\n",
       "    </tr>\n",
       "    <tr>\n",
       "      <th>1121</th>\n",
       "      <td>NaN</td>\n",
       "      <td>5</td>\n",
       "    </tr>\n",
       "    <tr>\n",
       "      <th>1122</th>\n",
       "      <td>NaN</td>\n",
       "      <td>5</td>\n",
       "    </tr>\n",
       "    <tr>\n",
       "      <th>1123</th>\n",
       "      <td>NaN</td>\n",
       "      <td>5</td>\n",
       "    </tr>\n",
       "    <tr>\n",
       "      <th>1126</th>\n",
       "      <td>NaN</td>\n",
       "      <td>5</td>\n",
       "    </tr>\n",
       "    <tr>\n",
       "      <th>1128</th>\n",
       "      <td>NaN</td>\n",
       "      <td>5</td>\n",
       "    </tr>\n",
       "  </tbody>\n",
       "</table>\n",
       "<p>805 rows × 2 columns</p>\n",
       "</div>"
      ],
      "text/plain": [
       "     review  rating\n",
       "1       NaN       5\n",
       "2       NaN       5\n",
       "3       NaN       5\n",
       "4       NaN       5\n",
       "5       NaN       5\n",
       "...     ...     ...\n",
       "1121    NaN       5\n",
       "1122    NaN       5\n",
       "1123    NaN       5\n",
       "1126    NaN       5\n",
       "1128    NaN       5\n",
       "\n",
       "[805 rows x 2 columns]"
      ]
     },
     "execution_count": 18,
     "metadata": {},
     "output_type": "execute_result"
    }
   ],
   "source": [
    "df[df.duplicated()]"
   ]
  },
  {
   "cell_type": "markdown",
   "id": "8fc83326-b027-4c4b-9511-f1e02d887c84",
   "metadata": {},
   "source": [
    "These duplicate records are mostly Nan review with same ratings, there are also some duplicate reviews all of them are not helpful for our model. Hence we drop these duplicated records "
   ]
  },
  {
   "cell_type": "code",
   "execution_count": 19,
   "id": "ecb13d6d-146a-4075-8a66-86cd382b12a0",
   "metadata": {},
   "outputs": [],
   "source": [
    "# Drop duplicate values\n",
    "df.drop_duplicates(inplace=True)\n",
    "# reset idex\n",
    "df.reset_index(drop=True,inplace = True)"
   ]
  },
  {
   "cell_type": "code",
   "execution_count": 20,
   "id": "b93f296e-376c-408f-bc21-172d897fa02b",
   "metadata": {},
   "outputs": [
    {
     "name": "stdout",
     "output_type": "stream",
     "text": [
      "Number of duplicate records :  0\n"
     ]
    }
   ],
   "source": [
    "# again check the number of duplicate record\n",
    "print(\"Number of duplicate records : \", len(df[df.duplicated()]))"
   ]
  },
  {
   "cell_type": "markdown",
   "id": "e3cec4fc",
   "metadata": {},
   "source": [
    "## 3.3 Show whether there are any missing values in each attribute. Report the same.\n"
   ]
  },
  {
   "cell_type": "code",
   "execution_count": 21,
   "id": "747250db",
   "metadata": {},
   "outputs": [],
   "source": [
    "##---------Type the code below this line------------------##"
   ]
  },
  {
   "cell_type": "code",
   "execution_count": 22,
   "id": "735aa786-a1ec-48d2-80c8-5b2e937f19a6",
   "metadata": {},
   "outputs": [
    {
     "data": {
      "text/plain": [
       "review    5\n",
       "rating    0\n",
       "dtype: int64"
      ]
     },
     "execution_count": 22,
     "metadata": {},
     "output_type": "execute_result"
    }
   ],
   "source": [
    "# finding null values\n",
    "df.isnull().sum()"
   ]
  },
  {
   "cell_type": "markdown",
   "id": "ae46da03-7cd4-4e96-9c3e-2b06c5782973",
   "metadata": {},
   "source": [
    "there are 5 Nan values in review column as most of the null values dropped while removing duplicates "
   ]
  },
  {
   "cell_type": "markdown",
   "id": "e7b4a34f",
   "metadata": {},
   "source": [
    "## 3.4 Clean the missing data using any imputation technique, mention the method used and again report the change after cleaning the data."
   ]
  },
  {
   "cell_type": "code",
   "execution_count": 23,
   "id": "ee55faf4",
   "metadata": {},
   "outputs": [],
   "source": [
    "##---------Type the code below this line------------------##"
   ]
  },
  {
   "cell_type": "markdown",
   "id": "5efe30cd-78d2-40d1-ae6f-528ee0d23683",
   "metadata": {},
   "source": [
    "There are many commonly used imputation technique like mean/median imputation, mode imputation etc. but for our case we have missing values in reviews column which we can't predict, Hence we will be dropping the Nan values "
   ]
  },
  {
   "cell_type": "code",
   "execution_count": 24,
   "id": "3c9e34ff-8bae-45c3-9727-f4ab614b568e",
   "metadata": {},
   "outputs": [],
   "source": [
    "# drop null values\n",
    "df.dropna(inplace=True)\n",
    "# reset idex\n",
    "df.reset_index(drop=True,inplace = True)"
   ]
  },
  {
   "cell_type": "code",
   "execution_count": 25,
   "id": "9e967513-66fa-43fa-a1d0-bebcbd00b94f",
   "metadata": {},
   "outputs": [
    {
     "data": {
      "text/plain": [
       "review    0\n",
       "rating    0\n",
       "dtype: int64"
      ]
     },
     "execution_count": 25,
     "metadata": {},
     "output_type": "execute_result"
    }
   ],
   "source": [
    "# again check null values\n",
    "df.isnull().sum()"
   ]
  },
  {
   "cell_type": "markdown",
   "id": "33700253",
   "metadata": {},
   "source": [
    "## 3.5 Check if all the attributes are following the same format and are consistent. If not, report all such attributes and what inconsistencies are present."
   ]
  },
  {
   "cell_type": "code",
   "execution_count": 26,
   "id": "e9124fcc",
   "metadata": {},
   "outputs": [],
   "source": [
    "##---------Type the code below this line------------------##"
   ]
  },
  {
   "cell_type": "code",
   "execution_count": 27,
   "id": "882e36ca-82d0-4a3b-865a-223a087a6026",
   "metadata": {},
   "outputs": [
    {
     "name": "stdout",
     "output_type": "stream",
     "text": [
      "✔️ Libraries imported successfully!\n"
     ]
    }
   ],
   "source": [
    "# importing libraries for feature engineering and model training\n",
    "\n",
    "import matplotlib.pyplot as plt\n",
    "import seaborn as sns\n",
    "from sklearn.metrics import confusion_matrix\n",
    "from wordcloud import WordCloud\n",
    "import re\n",
    "import nltk\n",
    "from nltk.corpus import stopwords\n",
    "from nltk.stem import PorterStemmer\n",
    "from nltk.tokenize import word_tokenize\n",
    "\n",
    "from sklearn.neighbors import KNeighborsClassifier\n",
    "from sklearn.feature_extraction.text import CountVectorizer\n",
    "from sklearn.model_selection import train_test_split\n",
    "from sklearn.model_selection import GridSearchCV\n",
    "from sklearn.tree import DecisionTreeClassifier\n",
    "from sklearn.ensemble import RandomForestClassifier\n",
    "print('✔️ Libraries imported successfully!')"
   ]
  },
  {
   "cell_type": "markdown",
   "id": "62e315d8-ac17-40af-8cde-84fb778bb4b4",
   "metadata": {},
   "source": [
    "we have to check our review column for the following things\n",
    "\n",
    "   - there should be no special characters, symbols or emoji's in review\n",
    "   - all reviews must be in lower case\n",
    "   - remove all the common helper words used in sentence formation\n"
   ]
  },
  {
   "cell_type": "code",
   "execution_count": 28,
   "id": "082c6294-285c-4340-ac0b-fc1093c578b9",
   "metadata": {},
   "outputs": [
    {
     "name": "stdout",
     "output_type": "stream",
     "text": [
      "<class 'pandas.core.frame.DataFrame'>\n",
      "RangeIndex: 320 entries, 0 to 319\n",
      "Data columns (total 2 columns):\n",
      " #   Column  Non-Null Count  Dtype \n",
      "---  ------  --------------  ----- \n",
      " 0   review  320 non-null    object\n",
      " 1   rating  320 non-null    int64 \n",
      "dtypes: int64(1), object(1)\n",
      "memory usage: 5.1+ KB\n"
     ]
    }
   ],
   "source": [
    "df.info()"
   ]
  },
  {
   "cell_type": "code",
   "execution_count": 29,
   "id": "c7382363-e857-4529-84bf-cb87ca865045",
   "metadata": {},
   "outputs": [
    {
     "data": {
      "text/plain": [
       "0      Extremely good ambience and very good hospital...\n",
       "1      It is actually a very beautiful fancy vegetari...\n",
       "2      The food is not that great, also it is very ve...\n",
       "3      I had a special veg thali from here. The taste...\n",
       "4      Osm.The quick, brown fox jumps over a lazy dog...\n",
       "                             ...                        \n",
       "315    I visit Khan market quite often when I'm in De...\n",
       "316    Good to be back after 2 long years.The high po...\n",
       "317    Food presentation was good, taste was average....\n",
       "318    Nice place to sit down with friends. Luckily w...\n",
       "319    From adding spice to boring day to cheering up...\n",
       "Name: review, Length: 320, dtype: object"
      ]
     },
     "execution_count": 29,
     "metadata": {},
     "output_type": "execute_result"
    }
   ],
   "source": [
    "df.review"
   ]
  },
  {
   "cell_type": "markdown",
   "id": "c91a6819-2fc3-483e-a984-744842c09cd6",
   "metadata": {},
   "source": [
    "- There are various comma and fullstop in reviews\n",
    "- Reviews are in mixed case (i.e lower and upper)\n",
    "- There are various helper words in the reviews"
   ]
  },
  {
   "cell_type": "markdown",
   "id": "3c936608",
   "metadata": {},
   "source": [
    "## 3.6 Correct the data if there are inconsistencies from 3.5. Report or print the data after correction."
   ]
  },
  {
   "cell_type": "code",
   "execution_count": 30,
   "id": "1c047e47",
   "metadata": {},
   "outputs": [],
   "source": [
    "##---------Type the code below this line------------------##"
   ]
  },
  {
   "cell_type": "code",
   "execution_count": 31,
   "id": "4489806f-bb93-416b-82ed-6f40a76ccfdf",
   "metadata": {},
   "outputs": [],
   "source": [
    "ps = PorterStemmer()\n",
    "stop_words = set(stopwords.words('english'))"
   ]
  },
  {
   "cell_type": "markdown",
   "id": "b10f243e-d763-4092-b073-97c4f6ca990a",
   "metadata": {},
   "source": [
    "stemming is the process of converting a word to its basic form or stem. This will help model to generalise words in reviews and give better performance. Let's look an example"
   ]
  },
  {
   "cell_type": "code",
   "execution_count": 32,
   "id": "46eff747-d423-4e97-b8c4-127e8f2e7c9d",
   "metadata": {},
   "outputs": [
    {
     "name": "stdout",
     "output_type": "stream",
     "text": [
      "love ---> love\n",
      "loved ---> love\n",
      "loving ---> love\n"
     ]
    }
   ],
   "source": [
    "# stemming example\n",
    "words = ['love','loved','loving']\n",
    "for word in words:\n",
    "    print(word,\"--->\",ps.stem(word))"
   ]
  },
  {
   "cell_type": "code",
   "execution_count": 33,
   "id": "4e623566-9be8-4087-8894-bfc8cf415cd6",
   "metadata": {
    "collapsed": true,
    "jupyter": {
     "outputs_hidden": true
    },
    "tags": []
   },
   "outputs": [
    {
     "data": {
      "text/plain": [
       "{'a',\n",
       " 'about',\n",
       " 'above',\n",
       " 'after',\n",
       " 'again',\n",
       " 'against',\n",
       " 'ain',\n",
       " 'all',\n",
       " 'am',\n",
       " 'an',\n",
       " 'and',\n",
       " 'any',\n",
       " 'are',\n",
       " 'aren',\n",
       " \"aren't\",\n",
       " 'as',\n",
       " 'at',\n",
       " 'be',\n",
       " 'because',\n",
       " 'been',\n",
       " 'before',\n",
       " 'being',\n",
       " 'below',\n",
       " 'between',\n",
       " 'both',\n",
       " 'but',\n",
       " 'by',\n",
       " 'can',\n",
       " 'couldn',\n",
       " \"couldn't\",\n",
       " 'd',\n",
       " 'did',\n",
       " 'didn',\n",
       " \"didn't\",\n",
       " 'do',\n",
       " 'does',\n",
       " 'doesn',\n",
       " \"doesn't\",\n",
       " 'doing',\n",
       " 'don',\n",
       " \"don't\",\n",
       " 'down',\n",
       " 'during',\n",
       " 'each',\n",
       " 'few',\n",
       " 'for',\n",
       " 'from',\n",
       " 'further',\n",
       " 'had',\n",
       " 'hadn',\n",
       " \"hadn't\",\n",
       " 'has',\n",
       " 'hasn',\n",
       " \"hasn't\",\n",
       " 'have',\n",
       " 'haven',\n",
       " \"haven't\",\n",
       " 'having',\n",
       " 'he',\n",
       " 'her',\n",
       " 'here',\n",
       " 'hers',\n",
       " 'herself',\n",
       " 'him',\n",
       " 'himself',\n",
       " 'his',\n",
       " 'how',\n",
       " 'i',\n",
       " 'if',\n",
       " 'in',\n",
       " 'into',\n",
       " 'is',\n",
       " 'isn',\n",
       " \"isn't\",\n",
       " 'it',\n",
       " \"it's\",\n",
       " 'its',\n",
       " 'itself',\n",
       " 'just',\n",
       " 'll',\n",
       " 'm',\n",
       " 'ma',\n",
       " 'me',\n",
       " 'mightn',\n",
       " \"mightn't\",\n",
       " 'more',\n",
       " 'most',\n",
       " 'mustn',\n",
       " \"mustn't\",\n",
       " 'my',\n",
       " 'myself',\n",
       " 'needn',\n",
       " \"needn't\",\n",
       " 'no',\n",
       " 'nor',\n",
       " 'not',\n",
       " 'now',\n",
       " 'o',\n",
       " 'of',\n",
       " 'off',\n",
       " 'on',\n",
       " 'once',\n",
       " 'only',\n",
       " 'or',\n",
       " 'other',\n",
       " 'our',\n",
       " 'ours',\n",
       " 'ourselves',\n",
       " 'out',\n",
       " 'over',\n",
       " 'own',\n",
       " 're',\n",
       " 's',\n",
       " 'same',\n",
       " 'shan',\n",
       " \"shan't\",\n",
       " 'she',\n",
       " \"she's\",\n",
       " 'should',\n",
       " \"should've\",\n",
       " 'shouldn',\n",
       " \"shouldn't\",\n",
       " 'so',\n",
       " 'some',\n",
       " 'such',\n",
       " 't',\n",
       " 'than',\n",
       " 'that',\n",
       " \"that'll\",\n",
       " 'the',\n",
       " 'their',\n",
       " 'theirs',\n",
       " 'them',\n",
       " 'themselves',\n",
       " 'then',\n",
       " 'there',\n",
       " 'these',\n",
       " 'they',\n",
       " 'this',\n",
       " 'those',\n",
       " 'through',\n",
       " 'to',\n",
       " 'too',\n",
       " 'under',\n",
       " 'until',\n",
       " 'up',\n",
       " 've',\n",
       " 'very',\n",
       " 'was',\n",
       " 'wasn',\n",
       " \"wasn't\",\n",
       " 'we',\n",
       " 'were',\n",
       " 'weren',\n",
       " \"weren't\",\n",
       " 'what',\n",
       " 'when',\n",
       " 'where',\n",
       " 'which',\n",
       " 'while',\n",
       " 'who',\n",
       " 'whom',\n",
       " 'why',\n",
       " 'will',\n",
       " 'with',\n",
       " 'won',\n",
       " \"won't\",\n",
       " 'wouldn',\n",
       " \"wouldn't\",\n",
       " 'y',\n",
       " 'you',\n",
       " \"you'd\",\n",
       " \"you'll\",\n",
       " \"you're\",\n",
       " \"you've\",\n",
       " 'your',\n",
       " 'yours',\n",
       " 'yourself',\n",
       " 'yourselves'}"
      ]
     },
     "execution_count": 33,
     "metadata": {},
     "output_type": "execute_result"
    }
   ],
   "source": [
    "# let's look in stop_word set\n",
    "stop_words"
   ]
  },
  {
   "cell_type": "markdown",
   "id": "451e5462-d62a-4831-be84-aba4afbf0248",
   "metadata": {},
   "source": [
    "after analysing stop_word set it is noted that some keywords like \"not\",\"no\" are useful in identifying the negative comments hence we remove some of those keywords from stop_word set"
   ]
  },
  {
   "cell_type": "code",
   "execution_count": 34,
   "id": "4ef4e348-570b-4e0a-93e5-36cc849db606",
   "metadata": {},
   "outputs": [],
   "source": [
    "remove_stop_word = ['aren', \"aren't\", 'couldn',\"couldn't\",'didn',\"didn't\",'doesn',\"doesn't\",'don',\n",
    " \"don't\", 'isn',\"isn't\",'no','nor','not','wasn',\"wasn't\",'weren',\"weren't\", \"won't\"]\n",
    "stop_words_new = stop_words - set(remove_stop_word)"
   ]
  },
  {
   "cell_type": "code",
   "execution_count": 35,
   "id": "4bfbd004-5c4d-4f8f-8505-246e7dab0bd7",
   "metadata": {
    "collapsed": true,
    "jupyter": {
     "outputs_hidden": true
    },
    "tags": []
   },
   "outputs": [
    {
     "data": {
      "text/plain": [
       "{'a',\n",
       " 'about',\n",
       " 'above',\n",
       " 'after',\n",
       " 'again',\n",
       " 'against',\n",
       " 'ain',\n",
       " 'all',\n",
       " 'am',\n",
       " 'an',\n",
       " 'and',\n",
       " 'any',\n",
       " 'are',\n",
       " 'as',\n",
       " 'at',\n",
       " 'be',\n",
       " 'because',\n",
       " 'been',\n",
       " 'before',\n",
       " 'being',\n",
       " 'below',\n",
       " 'between',\n",
       " 'both',\n",
       " 'but',\n",
       " 'by',\n",
       " 'can',\n",
       " 'd',\n",
       " 'did',\n",
       " 'do',\n",
       " 'does',\n",
       " 'doing',\n",
       " 'down',\n",
       " 'during',\n",
       " 'each',\n",
       " 'few',\n",
       " 'for',\n",
       " 'from',\n",
       " 'further',\n",
       " 'had',\n",
       " 'hadn',\n",
       " \"hadn't\",\n",
       " 'has',\n",
       " 'hasn',\n",
       " \"hasn't\",\n",
       " 'have',\n",
       " 'haven',\n",
       " \"haven't\",\n",
       " 'having',\n",
       " 'he',\n",
       " 'her',\n",
       " 'here',\n",
       " 'hers',\n",
       " 'herself',\n",
       " 'him',\n",
       " 'himself',\n",
       " 'his',\n",
       " 'how',\n",
       " 'i',\n",
       " 'if',\n",
       " 'in',\n",
       " 'into',\n",
       " 'is',\n",
       " 'it',\n",
       " \"it's\",\n",
       " 'its',\n",
       " 'itself',\n",
       " 'just',\n",
       " 'll',\n",
       " 'm',\n",
       " 'ma',\n",
       " 'me',\n",
       " 'mightn',\n",
       " \"mightn't\",\n",
       " 'more',\n",
       " 'most',\n",
       " 'mustn',\n",
       " \"mustn't\",\n",
       " 'my',\n",
       " 'myself',\n",
       " 'needn',\n",
       " \"needn't\",\n",
       " 'now',\n",
       " 'o',\n",
       " 'of',\n",
       " 'off',\n",
       " 'on',\n",
       " 'once',\n",
       " 'only',\n",
       " 'or',\n",
       " 'other',\n",
       " 'our',\n",
       " 'ours',\n",
       " 'ourselves',\n",
       " 'out',\n",
       " 'over',\n",
       " 'own',\n",
       " 're',\n",
       " 's',\n",
       " 'same',\n",
       " 'shan',\n",
       " \"shan't\",\n",
       " 'she',\n",
       " \"she's\",\n",
       " 'should',\n",
       " \"should've\",\n",
       " 'shouldn',\n",
       " \"shouldn't\",\n",
       " 'so',\n",
       " 'some',\n",
       " 'such',\n",
       " 't',\n",
       " 'than',\n",
       " 'that',\n",
       " \"that'll\",\n",
       " 'the',\n",
       " 'their',\n",
       " 'theirs',\n",
       " 'them',\n",
       " 'themselves',\n",
       " 'then',\n",
       " 'there',\n",
       " 'these',\n",
       " 'they',\n",
       " 'this',\n",
       " 'those',\n",
       " 'through',\n",
       " 'to',\n",
       " 'too',\n",
       " 'under',\n",
       " 'until',\n",
       " 'up',\n",
       " 've',\n",
       " 'very',\n",
       " 'was',\n",
       " 'we',\n",
       " 'were',\n",
       " 'what',\n",
       " 'when',\n",
       " 'where',\n",
       " 'which',\n",
       " 'while',\n",
       " 'who',\n",
       " 'whom',\n",
       " 'why',\n",
       " 'will',\n",
       " 'with',\n",
       " 'won',\n",
       " 'wouldn',\n",
       " \"wouldn't\",\n",
       " 'y',\n",
       " 'you',\n",
       " \"you'd\",\n",
       " \"you'll\",\n",
       " \"you're\",\n",
       " \"you've\",\n",
       " 'your',\n",
       " 'yours',\n",
       " 'yourself',\n",
       " 'yourselves'}"
      ]
     },
     "execution_count": 35,
     "metadata": {},
     "output_type": "execute_result"
    }
   ],
   "source": [
    "stop_words_new"
   ]
  },
  {
   "cell_type": "code",
   "execution_count": 36,
   "id": "607472d5-f809-44c4-a53f-b347c658b507",
   "metadata": {},
   "outputs": [],
   "source": [
    "def text_transformation(usr_review):\n",
    "\n",
    "    mod_review = usr_review\n",
    "    # return only A-Z,a-z and \" \" in our review\n",
    "    mod_review = re.sub('[^a-zA-Z]',' ',str(mod_review))\n",
    "    # convert reviews in lower case\n",
    "    mod_review = mod_review.lower()\n",
    "    # split reviews on the basis of space\n",
    "    mod_review = mod_review.split()\n",
    "    # feed splitted individual words to stemmer which are not in stop_words \n",
    "    mod_review = [ps.stem(word) for word in mod_review if word not in stop_words_new]\n",
    "    #return stemmed reviews\n",
    "    return (' '.join(str(y) for y in mod_review))"
   ]
  },
  {
   "cell_type": "code",
   "execution_count": 37,
   "id": "73c4bb5f-417f-453b-b942-aed6e025d802",
   "metadata": {},
   "outputs": [],
   "source": [
    "# Creating new column \"stem_review\"\n",
    "df['stem_review'] = df['review'].apply(lambda x: text_transformation(x))"
   ]
  },
  {
   "cell_type": "code",
   "execution_count": 38,
   "id": "f3ecec7e-a29b-4e91-8879-1e02d15621b4",
   "metadata": {},
   "outputs": [
    {
     "data": {
      "text/plain": [
       "0      extrem good ambienc good hospit staff went tri...\n",
       "1      actual beauti fanci vegetarian restaur near ch...\n",
       "2      food not great also expens earlier tri sushi a...\n",
       "3      special veg thali tast thw food good bit oili ...\n",
       "4      osm quick brown fox jump lazi dog dj flock mtv...\n",
       "                             ...                        \n",
       "315    visit khan market quit often delhi time around...\n",
       "316    good back long year high point alway terrac si...\n",
       "317    food present good tast averag servic prompt st...\n",
       "318    nice place sit friend luckili got tabl insid r...\n",
       "319    ad spice bore day cheer mood summer cocktail m...\n",
       "Name: stem_review, Length: 320, dtype: object"
      ]
     },
     "execution_count": 38,
     "metadata": {},
     "output_type": "execute_result"
    }
   ],
   "source": [
    "df['stem_review']"
   ]
  },
  {
   "cell_type": "markdown",
   "id": "fe8b6164-fdf2-4e8b-91bc-99fa4d585979",
   "metadata": {},
   "source": [
    "We have checked the column data and found\n",
    "- No comma and fullstop or special charter in reviews\n",
    "- All reviews in lower case\n",
    "- There are no helper words in the reviews\n",
    "- Reviews are stemmed"
   ]
  },
  {
   "cell_type": "markdown",
   "id": "793cd04b",
   "metadata": {},
   "source": [
    "## 3.7 Identify the target variables.\n"
   ]
  },
  {
   "cell_type": "code",
   "execution_count": null,
   "id": "c9089b57",
   "metadata": {},
   "outputs": [],
   "source": [
    "##---------Type the code below this line------------------##"
   ]
  },
  {
   "cell_type": "markdown",
   "id": "3e0bb49a-2edd-4a0a-ad01-7a6b86dae99b",
   "metadata": {},
   "source": [
    "Our target is to predict \"positive\" and \"negative\" review. Hence we will make a new feature \"response\" with following criterion\n",
    "\n",
    "   - rating greater than 3 marked as positive response(0)\n",
    "   - rating less than equal to 3 marked as negative response(1)\n",
    "   - we do this transformation in section 3.9"
   ]
  },
  {
   "cell_type": "markdown",
   "id": "2d1ecddb",
   "metadata": {},
   "source": [
    "## 3.8 Separate the data front the target such that the dataset is in the form of (X,y) or (Features, Label)\n"
   ]
  },
  {
   "cell_type": "code",
   "execution_count": null,
   "id": "2258a7c9",
   "metadata": {},
   "outputs": [],
   "source": [
    "##---------Type the code below this line------------------##"
   ]
  },
  {
   "cell_type": "code",
   "execution_count": 41,
   "id": "3575cbf3-c7e2-4675-a673-5f9aac929036",
   "metadata": {},
   "outputs": [],
   "source": [
    "# train_test split\n",
    "X = df['stem_review']\n",
    "y = df['response']\n",
    "X_train, X_test, y_train, y_test = train_test_split(X, y, test_size=0.33, random_state=1)"
   ]
  },
  {
   "cell_type": "markdown",
   "id": "280c1f13",
   "metadata": {},
   "source": [
    "## 3.9 Discretize the target variable or perform one-hot encoding on the target or any other as and if required.\n"
   ]
  },
  {
   "cell_type": "code",
   "execution_count": null,
   "id": "9a043cd5",
   "metadata": {},
   "outputs": [],
   "source": [
    "##---------Type the code below this line------------------##"
   ]
  },
  {
   "cell_type": "code",
   "execution_count": 39,
   "id": "7b0f9ab2-3395-4b54-b8a8-0a8c926480b3",
   "metadata": {},
   "outputs": [],
   "source": [
    "def positive_negative(x):\n",
    "    if x > 3:\n",
    "        y = 0 # positive review\n",
    "    else:\n",
    "        y = 1 # negative review\n",
    "    return y"
   ]
  },
  {
   "cell_type": "code",
   "execution_count": 40,
   "id": "7f4a2ecf-2d12-4df8-bc8a-68591b1b7d6e",
   "metadata": {},
   "outputs": [],
   "source": [
    "df['response'] = df['rating'].apply(lambda x: positive_negative(x))"
   ]
  },
  {
   "cell_type": "markdown",
   "id": "3ae0b5d2",
   "metadata": {},
   "source": [
    "# 4. Data Exploration using various plots"
   ]
  },
  {
   "cell_type": "markdown",
   "id": "186bf4d7",
   "metadata": {},
   "source": [
    "## 4.1 Scatter plot of each attribute with the target."
   ]
  },
  {
   "cell_type": "code",
   "execution_count": null,
   "id": "868d7b27",
   "metadata": {},
   "outputs": [],
   "source": [
    "##---------Type the code below this line------------------##"
   ]
  },
  {
   "cell_type": "code",
   "execution_count": null,
   "id": "a81f112b-7b79-4b3a-b0e5-5caa8521ec83",
   "metadata": {},
   "outputs": [],
   "source": [
    "## Scatter plot dummy code\n",
    "# plt.scatter(df_dummy['X'],df_dummy['y'])\n",
    "# plt.title('dummy_title')\n",
    "# plt.xlabel('x_label')\n",
    "# plt.ylabel(\"y_label\")\n",
    "# plt.show()"
   ]
  },
  {
   "cell_type": "markdown",
   "id": "b07b624c-95b7-4bdd-9d56-8ad91a1c2189",
   "metadata": {},
   "source": [
    "our problem consist of string data, hence we can't plot scatter plot  "
   ]
  },
  {
   "cell_type": "markdown",
   "id": "57150fdd",
   "metadata": {},
   "source": [
    "## 4.2 Pair plot of each attribute to identify the linear relationships among the attributes.\n"
   ]
  },
  {
   "cell_type": "code",
   "execution_count": 42,
   "id": "dd3118eb",
   "metadata": {},
   "outputs": [],
   "source": [
    "##---------Type the code below this line------------------##"
   ]
  },
  {
   "cell_type": "code",
   "execution_count": 43,
   "id": "50b5bb84-0c03-415c-a3d0-4b8b6f974214",
   "metadata": {},
   "outputs": [],
   "source": [
    "# we can't plot sns.pairplot on our dataset"
   ]
  },
  {
   "cell_type": "markdown",
   "id": "2b908288",
   "metadata": {},
   "source": [
    "## 4.3 Regression plots to identify the linear relationship between each attribute with the target variable. \n"
   ]
  },
  {
   "cell_type": "code",
   "execution_count": null,
   "id": "fe3ec5ed",
   "metadata": {},
   "outputs": [],
   "source": [
    "##---------Type the code below this line------------------##"
   ]
  },
  {
   "cell_type": "markdown",
   "id": "575f9e37",
   "metadata": {},
   "source": [
    "## 4.4 Can any other plot help to identify the optimal set of attributes that can be used for classification. The plot will be based on linear or nonlinear separations. If there is/are such plots, name them, explain why you think they can be helpful in the task and perform the plot as well.\n"
   ]
  },
  {
   "cell_type": "code",
   "execution_count": null,
   "id": "4d614311",
   "metadata": {},
   "outputs": [],
   "source": [
    "##---------Type the code below this line------------------##"
   ]
  },
  {
   "cell_type": "code",
   "execution_count": 45,
   "id": "18bde598-7df8-4779-a29a-8b195bee1287",
   "metadata": {},
   "outputs": [
    {
     "data": {
      "text/plain": [
       "<matplotlib.image.AxesImage at 0x1f1830461c0>"
      ]
     },
     "execution_count": 45,
     "metadata": {},
     "output_type": "execute_result"
    },
    {
     "data": {
      "image/png": "[encoded data removed]",
      "text/plain": [
       "<Figure size 1440x576 with 1 Axes>"
      ]
     },
     "metadata": {
      "needs_background": "light"
     },
     "output_type": "display_data"
    }
   ],
   "source": [
    "# We can plot WordCloud to get an intution of the important keywords in our reviews\n",
    "plt.rcParams['figure.figsize'] = 20,8\n",
    "word_cloud = \"\"\n",
    "for row in df['stem_review']:\n",
    "    for word in row:\n",
    "        word_cloud+=\" \".join(word)\n",
    "wordcloud = WordCloud(width = 1000, height = 500,background_color ='white',min_font_size = 10).generate(word_cloud)\n",
    "plt.imshow(wordcloud)"
   ]
  },
  {
   "cell_type": "markdown",
   "id": "bdbc82a1",
   "metadata": {},
   "source": [
    "# 5. Data Wrangling\n",
    "\n"
   ]
  },
  {
   "cell_type": "markdown",
   "id": "77e57102",
   "metadata": {},
   "source": [
    "## 5.1 Display correlation heatmap of each attribute against the target and report which features are significant."
   ]
  },
  {
   "cell_type": "code",
   "execution_count": null,
   "id": "7f20f541",
   "metadata": {},
   "outputs": [],
   "source": [
    "##---------Type the code below this line------------------##"
   ]
  },
  {
   "cell_type": "markdown",
   "id": "fff140a9-dc9f-4838-ad61-53e6329b41c9",
   "metadata": {
    "tags": []
   },
   "source": [
    "Correlation matrix is a matrix that displays correlation values between each variable in a dataframe\n",
    "it is used to summarized the dataframe, it is also used to get the linear relationships between variables. it's value lie between 0 to 1.\n",
    "\n",
    "   - -1 : high negative linear correlation\n",
    "   - 0 : no linear correlation\n",
    "   - 1 : high positive linear correlation\n",
    "\n",
    "If two variable has high negative or positive correlation then we should remove one variable as it is not providing any new information to our model\n"
   ]
  },
  {
   "cell_type": "code",
   "execution_count": null,
   "id": "1cb3f7c8-e443-4831-ac5c-c194e9eaab4c",
   "metadata": {},
   "outputs": [],
   "source": [
    "## We can't plot correlation matrix on our dataframe\n",
    "## code for plotting correlation matrix\n",
    "# fig, ax = plt.subplots(figsize=(12, 12))\n",
    "# dataplot = sns.heatmap(df_train.corr(), cmap=\"YlGnBu\", annot=False)\n",
    "# plt.show()"
   ]
  },
  {
   "cell_type": "markdown",
   "id": "ca214eb3",
   "metadata": {},
   "source": [
    "## 5.2 Univariate Filters – Identify top 5 significant features by evaluating each feature independently with respect to the target variable by exploring \n",
    "1. Mutual Information (Information Gain)\n",
    "2. Gini index\n",
    "3. Gain Ratio\n",
    "4. Chi-Squared test\n",
    "5. Fisher Score\n",
    "(From the above 5 you are required to use only any <b>three</b>) \n",
    "\n",
    "Write your observations from the results of each method and report the top 5 significant features for each of the above methods. Also plot a graph of significant features for each of them for better visualization."
   ]
  },
  {
   "cell_type": "code",
   "execution_count": null,
   "id": "a85e9754",
   "metadata": {},
   "outputs": [],
   "source": [
    "##---------Type the code below this line------------------##"
   ]
  },
  {
   "cell_type": "markdown",
   "id": "06f1173c",
   "metadata": {},
   "source": [
    "## 5.3 Train a “DecisionTreeClassifier” on the entire data and use the classifier to extract the top 5 significant features. Plot graph of significant features for better visualization."
   ]
  },
  {
   "cell_type": "code",
   "execution_count": null,
   "id": "ff644636",
   "metadata": {},
   "outputs": [],
   "source": [
    "##---------Type the code below this line------------------##"
   ]
  },
  {
   "cell_type": "code",
   "execution_count": 46,
   "id": "3e542921-3586-4204-828d-9da8974936b9",
   "metadata": {},
   "outputs": [],
   "source": [
    "# countVectorizer transforrm text data to vectors, so that model can process data\n",
    "cv = CountVectorizer(ngram_range=(1,2))\n",
    "traindata = cv.fit_transform(X_train)\n",
    "testdata = cv.transform(X_test)\n",
    "X_train_transformed = traindata\n",
    "X_test_transformed = testdata"
   ]
  },
  {
   "cell_type": "code",
   "execution_count": 47,
   "id": "26f9cf75-e834-47ab-847c-1581dcc51bdd",
   "metadata": {},
   "outputs": [
    {
     "name": "stdout",
     "output_type": "stream",
     "text": [
      "Number of records in X_trains :  214\n"
     ]
    }
   ],
   "source": [
    "print(\"Number of records in X_trains : \",len(X_train))"
   ]
  },
  {
   "cell_type": "code",
   "execution_count": 48,
   "id": "c73b3fbc-0767-4692-9831-47b5a3cf666c",
   "metadata": {},
   "outputs": [
    {
     "data": {
      "text/plain": [
       "<214x4601 sparse matrix of type '<class 'numpy.int64'>'\n",
       "\twith 7242 stored elements in Compressed Sparse Row format>"
      ]
     },
     "execution_count": 48,
     "metadata": {},
     "output_type": "execute_result"
    }
   ],
   "source": [
    "# It is a sparse matrix of 214 rows and 4601 columns\n",
    "X_train_transformed"
   ]
  },
  {
   "cell_type": "code",
   "execution_count": 49,
   "id": "6c8cb6e2-52db-4c17-a369-fa372c1fe7d6",
   "metadata": {},
   "outputs": [
    {
     "data": {
      "text/html": [
       "<style>#sk-container-id-1 {color: black;background-color: white;}#sk-container-id-1 pre{padding: 0;}#sk-container-id-1 div.sk-toggleable {background-color: white;}#sk-container-id-1 label.sk-toggleable__label {cursor: pointer;display: block;width: 100%;margin-bottom: 0;padding: 0.3em;box-sizing: border-box;text-align: center;}#sk-container-id-1 label.sk-toggleable__label-arrow:before {content: \"▸\";float: left;margin-right: 0.25em;color: #696969;}#sk-container-id-1 label.sk-toggleable__label-arrow:hover:before {color: black;}#sk-container-id-1 div.sk-estimator:hover label.sk-toggleable__label-arrow:before {color: black;}#sk-container-id-1 div.sk-toggleable__content {max-height: 0;max-width: 0;overflow: hidden;text-align: left;background-color: #f0f8ff;}#sk-container-id-1 div.sk-toggleable__content pre {margin: 0.2em;color: black;border-radius: 0.25em;background-color: #f0f8ff;}#sk-container-id-1 input.sk-toggleable__control:checked~div.sk-toggleable__content {max-height: 200px;max-width: 100%;overflow: auto;}#sk-container-id-1 input.sk-toggleable__control:checked~label.sk-toggleable__label-arrow:before {content: \"▾\";}#sk-container-id-1 div.sk-estimator input.sk-toggleable__control:checked~label.sk-toggleable__label {background-color: #d4ebff;}#sk-container-id-1 div.sk-label input.sk-toggleable__control:checked~label.sk-toggleable__label {background-color: #d4ebff;}#sk-container-id-1 input.sk-hidden--visually {border: 0;clip: rect(1px 1px 1px 1px);clip: rect(1px, 1px, 1px, 1px);height: 1px;margin: -1px;overflow: hidden;padding: 0;position: absolute;width: 1px;}#sk-container-id-1 div.sk-estimator {font-family: monospace;background-color: #f0f8ff;border: 1px dotted black;border-radius: 0.25em;box-sizing: border-box;margin-bottom: 0.5em;}#sk-container-id-1 div.sk-estimator:hover {background-color: #d4ebff;}#sk-container-id-1 div.sk-parallel-item::after {content: \"\";width: 100%;border-bottom: 1px solid gray;flex-grow: 1;}#sk-container-id-1 div.sk-label:hover label.sk-toggleable__label {background-color: #d4ebff;}#sk-container-id-1 div.sk-serial::before {content: \"\";position: absolute;border-left: 1px solid gray;box-sizing: border-box;top: 0;bottom: 0;left: 50%;z-index: 0;}#sk-container-id-1 div.sk-serial {display: flex;flex-direction: column;align-items: center;background-color: white;padding-right: 0.2em;padding-left: 0.2em;position: relative;}#sk-container-id-1 div.sk-item {position: relative;z-index: 1;}#sk-container-id-1 div.sk-parallel {display: flex;align-items: stretch;justify-content: center;background-color: white;position: relative;}#sk-container-id-1 div.sk-item::before, #sk-container-id-1 div.sk-parallel-item::before {content: \"\";position: absolute;border-left: 1px solid gray;box-sizing: border-box;top: 0;bottom: 0;left: 50%;z-index: -1;}#sk-container-id-1 div.sk-parallel-item {display: flex;flex-direction: column;z-index: 1;position: relative;background-color: white;}#sk-container-id-1 div.sk-parallel-item:first-child::after {align-self: flex-end;width: 50%;}#sk-container-id-1 div.sk-parallel-item:last-child::after {align-self: flex-start;width: 50%;}#sk-container-id-1 div.sk-parallel-item:only-child::after {width: 0;}#sk-container-id-1 div.sk-dashed-wrapped {border: 1px dashed gray;margin: 0 0.4em 0.5em 0.4em;box-sizing: border-box;padding-bottom: 0.4em;background-color: white;}#sk-container-id-1 div.sk-label label {font-family: monospace;font-weight: bold;display: inline-block;line-height: 1.2em;}#sk-container-id-1 div.sk-label-container {text-align: center;}#sk-container-id-1 div.sk-container {/* jupyter's `normalize.less` sets `[hidden] { display: none; }` but bootstrap.min.css set `[hidden] { display: none !important; }` so we also need the `!important` here to be able to override the default hidden behavior on the sphinx rendered scikit-learn.org. See: https://github.com/scikit-learn/scikit-learn/issues/21755 */display: inline-block !important;position: relative;}#sk-container-id-1 div.sk-text-repr-fallback {display: none;}</style><div id=\"sk-container-id-1\" class=\"sk-top-container\"><div class=\"sk-text-repr-fallback\"><pre>DecisionTreeClassifier(random_state=0)</pre><b>In a Jupyter environment, please rerun this cell to show the HTML representation or trust the notebook. <br />On GitHub, the HTML representation is unable to render, please try loading this page with nbviewer.org.</b></div><div class=\"sk-container\" hidden><div class=\"sk-item\"><div class=\"sk-estimator sk-toggleable\"><input class=\"sk-toggleable__control sk-hidden--visually\" id=\"sk-estimator-id-1\" type=\"checkbox\" checked><label for=\"sk-estimator-id-1\" class=\"sk-toggleable__label sk-toggleable__label-arrow\">DecisionTreeClassifier</label><div class=\"sk-toggleable__content\"><pre>DecisionTreeClassifier(random_state=0)</pre></div></div></div></div></div>"
      ],
      "text/plain": [
       "DecisionTreeClassifier(random_state=0)"
      ]
     },
     "execution_count": 49,
     "metadata": {},
     "output_type": "execute_result"
    }
   ],
   "source": [
    "clf = DecisionTreeClassifier(random_state=0)\n",
    "clf.fit(X_train_transformed,y_train)"
   ]
  },
  {
   "cell_type": "code",
   "execution_count": 50,
   "id": "61132a61-0a66-4e7a-9dd2-09a0af8ea364",
   "metadata": {},
   "outputs": [],
   "source": [
    "y_pred = clf.predict(X_test_transformed)"
   ]
  },
  {
   "cell_type": "code",
   "execution_count": 51,
   "id": "cc6473fd-9a67-49b3-a2c0-c22c3028419d",
   "metadata": {},
   "outputs": [],
   "source": [
    "def confusion(y_test, y_pred):\n",
    "    fig, ax = plt.subplots(figsize=(7, 4))\n",
    "    data = confusion_matrix(y_test,y_pred)\n",
    "    df_cm = pd.DataFrame(data,columns = ['0','1'], index = ['0','1'])\n",
    "    df_cm.index.name = 'Actual'\n",
    "    df_cm.columns.name = 'Predicted'\n",
    "    sns.heatmap(df_cm,annot=True, fmt='',ax=ax)\n",
    "    plt.tight_layout();"
   ]
  },
  {
   "cell_type": "code",
   "execution_count": 52,
   "id": "56184c2e-39c2-4ed9-812e-4bf888a04f96",
   "metadata": {},
   "outputs": [
    {
     "data": {
      "image/png": "[encoded data removed]",
      "text/plain": [
       "<Figure size 504x288 with 2 Axes>"
      ]
     },
     "metadata": {
      "needs_background": "light"
     },
     "output_type": "display_data"
    }
   ],
   "source": [
    "confusion(y_test,y_pred)"
   ]
  },
  {
   "cell_type": "markdown",
   "id": "040afed8",
   "metadata": {},
   "source": [
    "## 5.4 Using \"mlxtend\" library perform SequentialFeatureSelector to identify top 5 features."
   ]
  },
  {
   "cell_type": "code",
   "execution_count": null,
   "id": "7042235d",
   "metadata": {},
   "outputs": [],
   "source": [
    "##---------Type the code below this line------------------##"
   ]
  },
  {
   "cell_type": "code",
   "execution_count": 70,
   "id": "accad949-2e12-4d93-aeb8-c81529434967",
   "metadata": {},
   "outputs": [
    {
     "name": "stderr",
     "output_type": "stream",
     "text": [
      "[Parallel(n_jobs=1)]: Using backend SequentialBackend with 1 concurrent workers.\n",
      "[Parallel(n_jobs=1)]: Done   1 out of   1 | elapsed:    0.0s remaining:    0.0s\n",
      "[Parallel(n_jobs=1)]: Done 4601 out of 4601 | elapsed:  1.2min finished\n",
      "\n",
      "[2022-06-09 20:36:03] Features: 1/5 -- score: 0.780373831775701[Parallel(n_jobs=1)]: Using backend SequentialBackend with 1 concurrent workers.\n",
      "[Parallel(n_jobs=1)]: Done   1 out of   1 | elapsed:    0.0s remaining:    0.0s\n",
      "[Parallel(n_jobs=1)]: Done 4600 out of 4600 | elapsed:  1.2min finished\n",
      "\n",
      "[2022-06-09 20:37:14] Features: 2/5 -- score: 0.7990654205607477[Parallel(n_jobs=1)]: Using backend SequentialBackend with 1 concurrent workers.\n",
      "[Parallel(n_jobs=1)]: Done   1 out of   1 | elapsed:    0.0s remaining:    0.0s\n",
      "[Parallel(n_jobs=1)]: Done 4599 out of 4599 | elapsed:  1.1min finished\n",
      "\n",
      "[2022-06-09 20:38:21] Features: 3/5 -- score: 0.8084112149532711[Parallel(n_jobs=1)]: Using backend SequentialBackend with 1 concurrent workers.\n",
      "[Parallel(n_jobs=1)]: Done   1 out of   1 | elapsed:    0.0s remaining:    0.0s\n",
      "[Parallel(n_jobs=1)]: Done 4598 out of 4598 | elapsed:  1.1min finished\n",
      "\n",
      "[2022-06-09 20:39:29] Features: 4/5 -- score: 0.8177570093457944[Parallel(n_jobs=1)]: Using backend SequentialBackend with 1 concurrent workers.\n",
      "[Parallel(n_jobs=1)]: Done   1 out of   1 | elapsed:    0.0s remaining:    0.0s\n",
      "[Parallel(n_jobs=1)]: Done 4597 out of 4597 | elapsed:  1.1min finished\n",
      "\n",
      "[2022-06-09 20:40:38] Features: 5/5 -- score: 0.8271028037383178"
     ]
    }
   ],
   "source": [
    "# we have 4601 features and all are vectors\n",
    "from mlxtend.feature_selection import SequentialFeatureSelector as SFS\n",
    "knn = KNeighborsClassifier(n_neighbors=3)\n",
    "sfs1 = SFS(knn, \n",
    "           k_features=5, \n",
    "           forward=True, \n",
    "           floating=False, \n",
    "           verbose=2,\n",
    "           scoring='accuracy',\n",
    "           cv=0)\n",
    "\n",
    "sfs1 = sfs1.fit(X_train_transformed, y_train)"
   ]
  },
  {
   "cell_type": "code",
   "execution_count": 71,
   "id": "0bd2f2e6-a4b2-454a-86b3-6d036ffe3fd5",
   "metadata": {},
   "outputs": [
    {
     "data": {
      "text/plain": [
       "{1: {'feature_idx': (306,),\n",
       "  'cv_scores': array([0.78037383]),\n",
       "  'avg_score': 0.780373831775701,\n",
       "  'feature_names': ('306',)},\n",
       " 2: {'feature_idx': (306, 3873),\n",
       "  'cv_scores': array([0.79906542]),\n",
       "  'avg_score': 0.7990654205607477,\n",
       "  'feature_names': ('306', '3873')},\n",
       " 3: {'feature_idx': (306, 620, 3873),\n",
       "  'cv_scores': array([0.80841121]),\n",
       "  'avg_score': 0.8084112149532711,\n",
       "  'feature_names': ('306', '620', '3873')},\n",
       " 4: {'feature_idx': (306, 620, 1371, 3873),\n",
       "  'cv_scores': array([0.81775701]),\n",
       "  'avg_score': 0.8177570093457944,\n",
       "  'feature_names': ('306', '620', '1371', '3873')},\n",
       " 5: {'feature_idx': (306, 620, 1371, 1875, 3873),\n",
       "  'cv_scores': array([0.8271028]),\n",
       "  'avg_score': 0.8271028037383178,\n",
       "  'feature_names': ('306', '620', '1371', '1875', '3873')}}"
      ]
     },
     "execution_count": 71,
     "metadata": {},
     "output_type": "execute_result"
    }
   ],
   "source": [
    "sfs1.subsets_"
   ]
  },
  {
   "cell_type": "markdown",
   "id": "044106a1-cde3-4b11-9844-7047f444e63b",
   "metadata": {},
   "source": [
    "Top 5 features with feature_idx ['306', '620', '1371', '1875', '3873']"
   ]
  },
  {
   "cell_type": "code",
   "execution_count": 54,
   "id": "d38b9284-646c-4d33-a6a8-2efa3b1a8c3d",
   "metadata": {},
   "outputs": [
    {
     "name": "stdout",
     "output_type": "stream",
     "text": [
      "Top 5 features_name for identifying negative review :  bad\n",
      "Top 5 features_name for identifying negative review :  charg\n",
      "Top 5 features_name for identifying negative review :  famili\n",
      "Top 5 features_name for identifying negative review :  head\n",
      "Top 5 features_name for identifying negative review :  star\n"
     ]
    }
   ],
   "source": [
    "# extracting important feature names\n",
    "for i in [306, 620, 1371, 1875, 3873]:\n",
    "    print(\"Top 5 features_name for identifying negative review : \",cv.get_feature_names_out()[i])"
   ]
  },
  {
   "cell_type": "markdown",
   "id": "eb57940c",
   "metadata": {},
   "source": [
    "## 5.5 Conclude the top 3 significant features with necessary justifications."
   ]
  },
  {
   "cell_type": "markdown",
   "id": "324448eb",
   "metadata": {},
   "source": [
    "--------------Type the answers below this line--------------"
   ]
  },
  {
   "cell_type": "markdown",
   "id": "f3542bc6-a2f5-433c-a2dd-c2d9bfbf4d21",
   "metadata": {},
   "source": [
    "top 3 features('keywords') for identifying negative review\n",
    "   - bad : important keyword for classification as people use bad more in negative review rather than \"not bad\" in positive review\n",
    "   - charg : this keyword is related with \"charge\", money is an important factor for giving bad reviews as people often give negative reviews when charged more\n",
    "   - famili : this keyword can also be seen in many reviews, \"not a place to go with family\""
   ]
  },
  {
   "cell_type": "markdown",
   "id": "e01309a6-c095-47c8-82a6-2105f7429944",
   "metadata": {},
   "source": [
    "In this notebook we have implemented a basic nlp customer sentiment analyzer model with scrapped data. There are various thing that we can do improve this model.\n",
    "   - we can make pipelines to store data in a Database\n",
    "   - we need to collect more data to make model understand the differrence between positive and negative review\n",
    "   - we can use various other techniques like lemmantizing to improve model\n",
    "   - with enough data we can apply neural networks to classify reviews\n",
    "   - we can create more sub categories like happy,moderate,sad etc"
   ]
  },
  {
   "cell_type": "code",
   "execution_count": null,
   "id": "98e81ce3-c057-42f8-b69f-64ede730c027",
   "metadata": {},
   "outputs": [],
   "source": []
  }
 ],
 "metadata": {
  "kernelspec": {
   "display_name": "tfod",
   "language": "python",
   "name": "tfod"
  },
  "language_info": {
   "codemirror_mode": {
    "name": "ipython",
    "version": 3
   },
   "file_extension": ".py",
   "mimetype": "text/x-python",
   "name": "python",
   "nbconvert_exporter": "python",
   "pygments_lexer": "ipython3",
   "version": "3.9.10"
  }
 },
 "nbformat": 4,
 "nbformat_minor": 5
}
